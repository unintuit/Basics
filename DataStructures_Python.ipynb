{
 "cells": [
  {
   "cell_type": "code",
   "execution_count": 1,
   "metadata": {},
   "outputs": [
    {
     "name": "stdout",
     "output_type": "stream",
     "text": [
      "1\n",
      "2\n",
      "True\n",
      "deepak\n",
      "4.6\n",
      "<class 'object'>\n"
     ]
    }
   ],
   "source": [
    "#Lists Ordered sequence of objects that can be of any type and Its MUTABLE\n",
    "\n",
    "list1 = [1,2,True,'deepak',4.6,object]\n",
    "\n",
    "for i in list1:\n",
    "    print(i)"
   ]
  },
  {
   "cell_type": "code",
   "execution_count": 2,
   "metadata": {},
   "outputs": [
    {
     "name": "stdout",
     "output_type": "stream",
     "text": [
      "['pen', 'bag', 'grapes', 'book', 'laptop']\n",
      "['pen', 'bag', 'car', 'book', 'laptop']\n",
      "['pen', 'bag', 'grapes', 'book', 'laptop']\n"
     ]
    }
   ],
   "source": [
    "list2 = [\n",
    "    \n",
    "    'pen',\n",
    "    'paper',\n",
    "    'grapes',\n",
    "    'book',\n",
    "    'laptop'   \n",
    "    \n",
    "]\n",
    "\n",
    "list2[1] = 'bag' # Modifying the List\n",
    "print(list2)\n",
    "\n",
    "# List Slicing\n",
    "\n",
    "new_list= list2\n",
    "new_list= list2[:]#there is difference between these two.. find out what is it.\n",
    "new_list[2]='car'\n",
    "\n",
    "print(new_list)\n",
    "print(list2)"
   ]
  },
  {
   "cell_type": "code",
   "execution_count": 3,
   "metadata": {},
   "outputs": [
    {
     "name": "stdout",
     "output_type": "stream",
     "text": [
      "45\n"
     ]
    }
   ],
   "source": [
    "#Matrix\n",
    "\n",
    "matrix = [\n",
    "    [1,2,3],\n",
    "    [5,6,7],\n",
    "    [9,8,9,[7,6,23,45]],\n",
    "    [9],\n",
    "    [0,8]\n",
    "    ]\n",
    "\n",
    "print(matrix[2][3][3])"
   ]
  },
  {
   "cell_type": "code",
   "execution_count": 4,
   "metadata": {
    "scrolled": true
   },
   "outputs": [
    {
     "name": "stdout",
     "output_type": "stream",
     "text": [
      "None\n",
      "[1, 2, 3, 4, '78']\n",
      "None\n",
      "[1, 2, 3, 4, '78', 100]\n",
      "None\n",
      "[1, 2, 3, 4, '78', 100, 300]\n",
      "300\n",
      "None\n",
      "[1, 3, 4, '78', 100]\n",
      "None\n",
      "[]\n"
     ]
    }
   ],
   "source": [
    "#List Methods (In Built)\n",
    "\n",
    "list3=[1,2,3,4]\n",
    "\n",
    "print(list3.append('78')) #modifies the list and doesnt return anything[None] modifies inplace\n",
    "print(list3)\n",
    "print(list3.insert(5,100))\n",
    "print(list3)\n",
    "print(list3.extend([300]))\n",
    "print(list3)\n",
    "print(list3.pop())\n",
    "print(list3.remove(2))\n",
    "print(list3)\n",
    "print(list3.clear())\n",
    "print(list3)"
   ]
  },
  {
   "cell_type": "code",
   "execution_count": 5,
   "metadata": {},
   "outputs": [
    {
     "name": "stdout",
     "output_type": "stream",
     "text": [
      "4\n",
      "True\n",
      "2\n",
      "4\n",
      "['1', '123', '2', 'a', 'b', 'c', 'd', 'd', 'g', 'v', 'x']\n",
      "['a', 'b', 'c', 'x', 'd', 'd', 'g', 'v', '1', '2', '123']\n",
      "None\n",
      "['1', '123', '2', 'a', 'b', 'c', 'd', 'd', 'g', 'v', 'x']\n",
      "None\n",
      "['x', 'v', 'g', 'd', 'd', 'c', 'b', 'a', '2', '123', '1']\n"
     ]
    }
   ],
   "source": [
    "list4=['a','b','c','x','d','d','g','v','1','2','123']\n",
    "\n",
    "print(list4.index('d'))\n",
    "print('d' in list4)\n",
    "\n",
    "print(list4.count('d'))\n",
    "name='skrgdd'\n",
    "print(name.find('d'))\n",
    "\n",
    "print(sorted(list4)) # it doesnt modify the list it sorts and creats a new list\n",
    "print(list4)\n",
    "print(list4.sort()) # it modeifies the list and doesnt return anything[None]\n",
    "\n",
    "print(list4)\n",
    "\n",
    "print(list4.reverse())\n",
    "print(list4)"
   ]
  },
  {
   "cell_type": "code",
   "execution_count": 6,
   "metadata": {},
   "outputs": [
    {
     "name": "stdout",
     "output_type": "stream",
     "text": [
      "hello!you!are!going!to!ace!the!python\n"
     ]
    }
   ],
   "source": [
    "list5=['hello','you','are','going','to','ace','the','python']\n",
    "\n",
    "sentence ='!'\n",
    "\n",
    "new_sentence= sentence.join(list5) # it creates a new string\n",
    "print(new_sentence)"
   ]
  },
  {
   "cell_type": "code",
   "execution_count": 7,
   "metadata": {},
   "outputs": [
    {
     "name": "stdout",
     "output_type": "stream",
     "text": [
      "1\n",
      "2\n",
      "3\n",
      "[4, 5]\n",
      "6\n"
     ]
    }
   ],
   "source": [
    "#List Unpacking\n",
    "\n",
    "a,b,c,*remaining,d = [1,2,3,4,5,6]\n",
    "\n",
    "print(a)\n",
    "print(b)\n",
    "print(c)\n",
    "print(remaining)\n",
    "print(d)"
   ]
  },
  {
   "cell_type": "code",
   "execution_count": 11,
   "metadata": {},
   "outputs": [
    {
     "name": "stdout",
     "output_type": "stream",
     "text": [
      "123\n"
     ]
    }
   ],
   "source": [
    "#Dictionary\n",
    "#its a data type in Python also a data structure,used to organize the data\n",
    "#stores in different laces in memory\n",
    "\n",
    "sample_dict = {\n",
    "    \n",
    "    'a' : 123,\n",
    "    'b' : 456\n",
    "    \n",
    "}\n",
    "\n",
    "print(sample_dict['a'])"
   ]
  },
  {
   "cell_type": "code",
   "execution_count": 73,
   "metadata": {},
   "outputs": [
    {
     "name": "stdout",
     "output_type": "stream",
     "text": [
      "<class 'object'>\n",
      "[4, 2, 3]\n"
     ]
    },
    {
     "ename": "TypeError",
     "evalue": "unhashable type: 'slice'",
     "output_type": "error",
     "traceback": [
      "\u001b[1;31m---------------------------------------------------------------------------\u001b[0m",
      "\u001b[1;31mTypeError\u001b[0m                                 Traceback (most recent call last)",
      "\u001b[1;32m<ipython-input-73-bc9dbf9dff19>\u001b[0m in \u001b[0;36m<module>\u001b[1;34m\u001b[0m\n\u001b[0;32m     12\u001b[0m \u001b[0mprint\u001b[0m\u001b[1;33m(\u001b[0m\u001b[0msample_dict2\u001b[0m\u001b[1;33m[\u001b[0m\u001b[1;34m'a1'\u001b[0m\u001b[1;33m]\u001b[0m\u001b[1;33m)\u001b[0m\u001b[1;33m\u001b[0m\u001b[1;33m\u001b[0m\u001b[0m\n\u001b[0;32m     13\u001b[0m \u001b[1;33m\u001b[0m\u001b[0m\n\u001b[1;32m---> 14\u001b[1;33m \u001b[0mprint\u001b[0m\u001b[1;33m(\u001b[0m\u001b[0msample_dict2\u001b[0m\u001b[1;33m[\u001b[0m\u001b[1;34m'a1'\u001b[0m\u001b[1;33m:\u001b[0m\u001b[1;34m'c1'\u001b[0m\u001b[1;33m]\u001b[0m\u001b[1;33m)\u001b[0m\u001b[1;33m\u001b[0m\u001b[1;33m\u001b[0m\u001b[0m\n\u001b[0m\u001b[0;32m     15\u001b[0m \u001b[1;33m\u001b[0m\u001b[0m\n\u001b[0;32m     16\u001b[0m \u001b[0msample_dict2\u001b[0m \u001b[1;31m# doesnt allow duplicates check.\u001b[0m\u001b[1;33m\u001b[0m\u001b[1;33m\u001b[0m\u001b[0m\n",
      "\u001b[1;31mTypeError\u001b[0m: unhashable type: 'slice'"
     ]
    }
   ],
   "source": [
    "sample_dict2={\n",
    "#     'a1' : [1,2,3],\n",
    "#     'b1' : 'deepak',\n",
    "#     'c1' : object,\n",
    "    'a1' : [4,2,3],\n",
    "    'b1' : 'deepak',\n",
    "    'c1' : object\n",
    "}\n",
    "\n",
    "\n",
    "print(sample_dict2['c1'])\n",
    "print(sample_dict2['a1'])\n",
    "\n",
    "print(sample_dict2['a1':'c1'])\n",
    "\n",
    "sample_dict2 # doesnt allow duplicates check."
   ]
  },
  {
   "cell_type": "code",
   "execution_count": 63,
   "metadata": {},
   "outputs": [
    {
     "name": "stdout",
     "output_type": "stream",
     "text": [
      "chakri\n"
     ]
    }
   ],
   "source": [
    "my_dict1={\n",
    "    a: 'deepak',\n",
    "    b :'chakri',\n",
    "    c :'happy',\n",
    "    d :'always'\n",
    "}\n",
    "\n",
    "print(my_dict1[b]) # questions :  will dictionary accept the duplicate keys or it will error out\n",
    "# what happens instead of using numbers we use alphabets"
   ]
  },
  {
   "cell_type": "code",
   "execution_count": 62,
   "metadata": {},
   "outputs": [
    {
     "ename": "NameError",
     "evalue": "name 'e' is not defined",
     "output_type": "error",
     "traceback": [
      "\u001b[1;31m---------------------------------------------------------------------------\u001b[0m",
      "\u001b[1;31mNameError\u001b[0m                                 Traceback (most recent call last)",
      "\u001b[1;32m<ipython-input-62-4f95645d6b3a>\u001b[0m in \u001b[0;36m<module>\u001b[1;34m\u001b[0m\n\u001b[0;32m      1\u001b[0m \u001b[1;31m# dictionary methods\u001b[0m\u001b[1;33m\u001b[0m\u001b[1;33m\u001b[0m\u001b[1;33m\u001b[0m\u001b[0m\n\u001b[0;32m      2\u001b[0m ands_dict={\n\u001b[1;32m----> 3\u001b[1;33m     \u001b[0me\u001b[0m\u001b[1;33m:\u001b[0m\u001b[1;34m'hello'\u001b[0m\u001b[1;33m,\u001b[0m\u001b[1;33m\u001b[0m\u001b[1;33m\u001b[0m\u001b[0m\n\u001b[0m\u001b[0;32m      4\u001b[0m     \u001b[0mh\u001b[0m\u001b[1;33m:\u001b[0m\u001b[1;34m'how are you'\u001b[0m\u001b[1;33m\u001b[0m\u001b[1;33m\u001b[0m\u001b[0m\n\u001b[0;32m      5\u001b[0m }\n",
      "\u001b[1;31mNameError\u001b[0m: name 'e' is not defined"
     ]
    }
   ],
   "source": [
    "# dictionary methods\n",
    "ands_dict={\n",
    "    e:'hello',\n",
    "    h:'how are you'\n",
    "}\n",
    "print(ands_dict[g]) #why g is not defined\n"
   ]
  },
  {
   "cell_type": "code",
   "execution_count": 48,
   "metadata": {},
   "outputs": [
    {
     "name": "stdout",
     "output_type": "stream",
     "text": [
      "{'gems': 'man'}\n"
     ]
    }
   ],
   "source": [
    "name ={\n",
    "    'gems':'man'\n",
    "}\n",
    "\n",
    "print(name)"
   ]
  },
  {
   "cell_type": "code",
   "execution_count": 69,
   "metadata": {},
   "outputs": [
    {
     "name": "stdout",
     "output_type": "stream",
     "text": [
      "5\n"
     ]
    }
   ],
   "source": [
    "#Tuples - its immutable\n",
    "\n",
    "my_tuple= (1,2,[3,4,5])\n",
    "\n",
    "print(my_tuple[2][2])"
   ]
  },
  {
   "cell_type": "code",
   "execution_count": 74,
   "metadata": {},
   "outputs": [
    {
     "name": "stdout",
     "output_type": "stream",
     "text": [
      "(5,)\n"
     ]
    }
   ],
   "source": [
    "tup=(4,5,6)\n",
    "\n",
    "print(tup[1:2]) # we can slice a tuple and assign to the new variable"
   ]
  },
  {
   "cell_type": "code",
   "execution_count": 77,
   "metadata": {},
   "outputs": [
    {
     "ename": "AttributeError",
     "evalue": "'set' object has no attribute 'union_all'",
     "output_type": "error",
     "traceback": [
      "\u001b[1;31m---------------------------------------------------------------------------\u001b[0m",
      "\u001b[1;31mAttributeError\u001b[0m                            Traceback (most recent call last)",
      "\u001b[1;32m<ipython-input-77-2a611fb8a410>\u001b[0m in \u001b[0;36m<module>\u001b[1;34m\u001b[0m\n\u001b[0;32m      4\u001b[0m \u001b[0mbc\u001b[0m\u001b[1;33m=\u001b[0m\u001b[1;33m{\u001b[0m\u001b[1;36m3\u001b[0m\u001b[1;33m,\u001b[0m\u001b[1;36m4\u001b[0m\u001b[1;33m,\u001b[0m\u001b[1;36m5\u001b[0m\u001b[1;33m,\u001b[0m\u001b[1;36m6\u001b[0m\u001b[1;33m,\u001b[0m\u001b[1;36m7\u001b[0m\u001b[1;33m}\u001b[0m\u001b[1;33m\u001b[0m\u001b[1;33m\u001b[0m\u001b[0m\n\u001b[0;32m      5\u001b[0m \u001b[1;33m\u001b[0m\u001b[0m\n\u001b[1;32m----> 6\u001b[1;33m \u001b[0mab\u001b[0m\u001b[1;33m.\u001b[0m\u001b[0munion_all\u001b[0m\u001b[1;33m(\u001b[0m\u001b[0mbc\u001b[0m\u001b[1;33m)\u001b[0m\u001b[1;33m\u001b[0m\u001b[1;33m\u001b[0m\u001b[0m\n\u001b[0m",
      "\u001b[1;31mAttributeError\u001b[0m: 'set' object has no attribute 'union_all'"
     ]
    }
   ],
   "source": [
    "#Sets doesnt allow duplicates\n",
    "\n",
    "ab={1,2,3,4}\n",
    "bc={3,4,5,6,7}\n",
    "\n",
    "ab.union_all(bc)\n"
   ]
  }
 ],
 "metadata": {
  "kernelspec": {
   "display_name": "Python 3",
   "language": "python",
   "name": "python3"
  },
  "language_info": {
   "codemirror_mode": {
    "name": "ipython",
    "version": 3
   },
   "file_extension": ".py",
   "mimetype": "text/x-python",
   "name": "python",
   "nbconvert_exporter": "python",
   "pygments_lexer": "ipython3",
   "version": "3.8.3"
  }
 },
 "nbformat": 4,
 "nbformat_minor": 4
}
