{
 "cells": [
  {
   "cell_type": "code",
   "execution_count": 1,
   "metadata": {},
   "outputs": [
    {
     "name": "stdout",
     "output_type": "stream",
     "text": [
      "I am True\n"
     ]
    }
   ],
   "source": [
    "#Conditionals \n",
    "\n",
    "if True :\n",
    "    print('I am True')\n",
    "elif False:\n",
    "    print('i am in elif')\n",
    "    \n",
    "else:\n",
    "    print('you are at else')"
   ]
  },
  {
   "cell_type": "code",
   "execution_count": 2,
   "metadata": {},
   "outputs": [
    {
     "name": "stdout",
     "output_type": "stream",
     "text": [
      "no,its not\n"
     ]
    }
   ],
   "source": [
    "#ternary operator\n",
    "a=5\n",
    "\n",
    "print('a is bigger than 10') if (a>10) else print('no,its not')"
   ]
  },
  {
   "cell_type": "code",
   "execution_count": 3,
   "metadata": {},
   "outputs": [
    {
     "name": "stdout",
     "output_type": "stream",
     "text": [
      "atleast you are getting there\n"
     ]
    }
   ],
   "source": [
    "#Exercise :\n",
    "\n",
    "is_magician =True\n",
    "is_expert = False\n",
    "\n",
    "if is_magician and is_expert:\n",
    "    print('You are a expert magician')\n",
    "elif is_magician and not(is_expert) :\n",
    "    print('atleast you are getting there') \n",
    "else: \n",
    "    print('better luck next time')"
   ]
  },
  {
   "cell_type": "code",
   "execution_count": 4,
   "metadata": {},
   "outputs": [
    {
     "name": "stdout",
     "output_type": "stream",
     "text": [
      "False\n"
     ]
    }
   ],
   "source": [
    "print(5==10)"
   ]
  },
  {
   "cell_type": "code",
   "execution_count": 5,
   "metadata": {},
   "outputs": [
    {
     "name": "stdout",
     "output_type": "stream",
     "text": [
      "       * \n",
      "      * * \n",
      "     * * * \n",
      "    * * * * \n",
      "   * * * * * \n",
      "  * * * * * * \n",
      " * * * * * * * \n",
      "* * * * * * * * \n"
     ]
    }
   ],
   "source": [
    "size = 8\n",
    "m = size-1\n",
    "for i in range(0, size):\n",
    "    for j in range(0, m):\n",
    "        print(end=\" \")\n",
    "    m = m - 1  # decrementing m after each loop\n",
    "    for j in range(0, i + 1):\n",
    "        # printing full Triangle pyramid using stars\n",
    "        print(\"*\", end=' ')\n",
    "    print(\"\")"
   ]
  },
  {
   "cell_type": "code",
   "execution_count": 6,
   "metadata": {},
   "outputs": [
    {
     "name": "stdout",
     "output_type": "stream",
     "text": [
      "[0, 1, 2, 3, 4, 5, 6]\n"
     ]
    }
   ],
   "source": [
    "print(list(range(0,7)))"
   ]
  },
  {
   "cell_type": "code",
   "execution_count": 7,
   "metadata": {},
   "outputs": [
    {
     "name": "stdout",
     "output_type": "stream",
     "text": [
      "45\n"
     ]
    }
   ],
   "source": [
    "my_list = [1,2,3,4,5,6,7,8,9]\n",
    "temp=0\n",
    "for num in my_list:\n",
    "    temp=num+temp\n",
    "print(temp)"
   ]
  },
  {
   "cell_type": "code",
   "execution_count": 8,
   "metadata": {},
   "outputs": [
    {
     "name": "stdout",
     "output_type": "stream",
     "text": [
      "49\n"
     ]
    }
   ],
   "source": [
    "for i,char in enumerate(range(1,100)):\n",
    "    if char==50:\n",
    "        print(i)"
   ]
  },
  {
   "cell_type": "code",
   "execution_count": 9,
   "metadata": {},
   "outputs": [
    {
     "name": "stdout",
     "output_type": "stream",
     "text": [
      "0\n",
      "1\n",
      "2\n",
      "3\n",
      "4\n",
      "5\n",
      "6\n",
      "7\n",
      "8\n",
      "9\n",
      "I am done\n"
     ]
    }
   ],
   "source": [
    "#while loop\n",
    "\n",
    "i=0\n",
    "while i<10:\n",
    "    print(i)\n",
    "    i+=1\n",
    "print('I am done')"
   ]
  },
  {
   "cell_type": "code",
   "execution_count": 10,
   "metadata": {},
   "outputs": [
    {
     "name": "stdout",
     "output_type": "stream",
     "text": [
      "   *   \n",
      "  ***  \n",
      " ***** \n",
      "*******\n",
      "   *   \n",
      "   *   \n"
     ]
    }
   ],
   "source": [
    "picture = [\n",
    "  [0,0,0,1,0,0,0],\n",
    "  [0,0,1,1,1,0,0],\n",
    "  [0,1,1,1,1,1,0],\n",
    "  [1,1,1,1,1,1,1],\n",
    "  [0,0,0,1,0,0,0],\n",
    "  [0,0,0,1,0,0,0]\n",
    "]\n",
    "\n",
    "for r in picture:\n",
    "    for c in r:\n",
    "        print(' ',end='') if not(c) else print('*',end='')\n",
    "    print()\n"
   ]
  },
  {
   "cell_type": "code",
   "execution_count": 11,
   "metadata": {},
   "outputs": [
    {
     "name": "stdout",
     "output_type": "stream",
     "text": [
      "a already exist\n",
      "d already exist\n",
      "e already exist\n",
      "f already exist\n",
      "{'g', 'b', 'c'}\n"
     ]
    }
   ],
   "source": [
    "#duplicates in List\n",
    "\n",
    "some_list = ['a','b','c','d','e','f','g','g','c','b']\n",
    "temp_list=[]\n",
    "\n",
    "for i in some_list:\n",
    "    if some_list.count(i)>1:\n",
    "        temp_list.append(i)\n",
    "    else:\n",
    "        print(i,'already exist') \n",
    "print(set(temp_list))"
   ]
  }
 ],
 "metadata": {
  "kernelspec": {
   "display_name": "Python 3",
   "language": "python",
   "name": "python3"
  },
  "language_info": {
   "codemirror_mode": {
    "name": "ipython",
    "version": 3
   },
   "file_extension": ".py",
   "mimetype": "text/x-python",
   "name": "python",
   "nbconvert_exporter": "python",
   "pygments_lexer": "ipython3",
   "version": "3.8.3"
  }
 },
 "nbformat": 4,
 "nbformat_minor": 4
}
